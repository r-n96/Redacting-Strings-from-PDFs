{
 "cells": [
  {
   "cell_type": "code",
   "execution_count": null,
   "metadata": {},
   "outputs": [],
   "source": [
    "import fitz  # PyMuPDF\n",
    "from PyPDF2 import PdfWriter"
   ]
  },
  {
   "cell_type": "code",
   "execution_count": null,
   "metadata": {},
   "outputs": [],
   "source": [
    "def redact_pdf(input_path, output_path, words_to_redact):\n",
    "    # Open the PDF file\n",
    "    pdf_document = fitz.open(input_path)\n",
    "\n",
    "    # Iterate through each page in the PDF\n",
    "    for page_num in range(pdf_document.page_count):\n",
    "        page = pdf_document[page_num]\n",
    "\n",
    "        # Iterate through each word to redact\n",
    "        for word_to_redact in words_to_redact:\n",
    "            # Search for the word and get its positions on the page\n",
    "            instances = page.search_for(word_to_redact)\n",
    "\n",
    "            # Iterate through each instance and redact the word\n",
    "            for rect in instances:\n",
    "                page.add_redact_annot(rect)\n",
    "                # Apply the redaction to the PDF page\n",
    "                page.apply_redactions()\n",
    "\n",
    "    # Save the redacted PDF to the output path\n",
    "    pdf_document.save(output_path)\n",
    "    pdf_document.close()"
   ]
  },
  {
   "cell_type": "code",
   "execution_count": null,
   "metadata": {},
   "outputs": [],
   "source": [
    "if __name__ == \"__main__\":\n",
    "    # Replace 'input.pdf' with your input PDF file and 'output_redacted.pdf' with the desired output file\n",
    "    input_pdf_path = 'Book 4 Notes v2.pdf'\n",
    "    output_pdf_path = 'Book 4 Notes_redacted.pdf'\n",
    "    \n",
    "    # Words to redact\n",
    "    words_to_redact = ['First Name', 'Last Name','Delete This Text']\n",
    "\n",
    "    redact_pdf(input_pdf_path, output_pdf_path, words_to_redact)"
   ]
  }
 ],
 "metadata": {
  "language_info": {
   "name": "python"
  }
 },
 "nbformat": 4,
 "nbformat_minor": 2
}
